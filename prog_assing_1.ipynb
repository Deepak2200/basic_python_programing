{
 "cells": [
  {
   "cell_type": "markdown",
   "id": "cdfc72ef-dcc2-4c7b-9759-f81cf17ff318",
   "metadata": {},
   "source": [
    "### 1.Write a Python program to print 'Hello Python' ?"
   ]
  },
  {
   "cell_type": "code",
   "execution_count": 1,
   "id": "01ca8f31-69b4-402f-b4a4-0a81740e30e9",
   "metadata": {},
   "outputs": [
    {
     "name": "stdout",
     "output_type": "stream",
     "text": [
      "Hello Python\n"
     ]
    }
   ],
   "source": [
    "print('Hello Python')"
   ]
  },
  {
   "cell_type": "markdown",
   "id": "b9d59825-7dc4-433b-a957-6ece6ffd5452",
   "metadata": {},
   "source": [
    "### 2.Write a Python program to do arithmetic operations addition and division ?"
   ]
  },
  {
   "cell_type": "code",
   "execution_count": 2,
   "id": "dc3628a2-9782-4e8c-9472-e78e279c9585",
   "metadata": {},
   "outputs": [
    {
     "name": "stdout",
     "output_type": "stream",
     "text": [
      "Select a Arithmetic Operation:         \n",
      "1.Addition(+)        \n",
      "2.Division(-)        \n",
      "2.Multiplication(*)        \n",
      "4.Division(/)        \n",
      "3.Stop(0)\n",
      "\n"
     ]
    },
    {
     "name": "stdin",
     "output_type": "stream",
     "text": [
      "Enter a arithmetic operation ->  10\n"
     ]
    },
    {
     "name": "stdout",
     "output_type": "stream",
     "text": [
      "Please enter a valid operator\n"
     ]
    },
    {
     "name": "stdin",
     "output_type": "stream",
     "text": [
      "Enter a arithmetic operation ->  20\n"
     ]
    },
    {
     "name": "stdout",
     "output_type": "stream",
     "text": [
      "Please enter a valid operator\n"
     ]
    },
    {
     "name": "stdin",
     "output_type": "stream",
     "text": [
      "Enter a arithmetic operation ->  10\n"
     ]
    },
    {
     "name": "stdout",
     "output_type": "stream",
     "text": [
      "Please enter a valid operator\n"
     ]
    },
    {
     "name": "stdin",
     "output_type": "stream",
     "text": [
      "Enter a arithmetic operation ->  20\n"
     ]
    },
    {
     "name": "stdout",
     "output_type": "stream",
     "text": [
      "Please enter a valid operator\n"
     ]
    },
    {
     "name": "stdin",
     "output_type": "stream",
     "text": [
      "Enter a arithmetic operation ->  10\n"
     ]
    },
    {
     "name": "stdout",
     "output_type": "stream",
     "text": [
      "Please enter a valid operator\n"
     ]
    },
    {
     "name": "stdin",
     "output_type": "stream",
     "text": [
      "Enter a arithmetic operation ->  20\n"
     ]
    },
    {
     "name": "stdout",
     "output_type": "stream",
     "text": [
      "Please enter a valid operator\n"
     ]
    },
    {
     "name": "stdin",
     "output_type": "stream",
     "text": [
      "Enter a arithmetic operation ->  10\n"
     ]
    },
    {
     "name": "stdout",
     "output_type": "stream",
     "text": [
      "Please enter a valid operator\n"
     ]
    },
    {
     "name": "stdin",
     "output_type": "stream",
     "text": [
      "Enter a arithmetic operation ->  20\n"
     ]
    },
    {
     "name": "stdout",
     "output_type": "stream",
     "text": [
      "Please enter a valid operator\n"
     ]
    },
    {
     "name": "stdin",
     "output_type": "stream",
     "text": [
      "Enter a arithmetic operation ->  10\n"
     ]
    },
    {
     "name": "stdout",
     "output_type": "stream",
     "text": [
      "Please enter a valid operator\n"
     ]
    },
    {
     "name": "stdin",
     "output_type": "stream",
     "text": [
      "Enter a arithmetic operation ->  20\n"
     ]
    },
    {
     "name": "stdout",
     "output_type": "stream",
     "text": [
      "Please enter a valid operator\n"
     ]
    },
    {
     "name": "stdin",
     "output_type": "stream",
     "text": [
      "Enter a arithmetic operation ->  10\n"
     ]
    },
    {
     "name": "stdout",
     "output_type": "stream",
     "text": [
      "Please enter a valid operator\n"
     ]
    },
    {
     "name": "stdin",
     "output_type": "stream",
     "text": [
      "Enter a arithmetic operation ->  20\n"
     ]
    },
    {
     "name": "stdout",
     "output_type": "stream",
     "text": [
      "Please enter a valid operator\n"
     ]
    },
    {
     "name": "stdin",
     "output_type": "stream",
     "text": [
      "Enter a arithmetic operation ->  0\n"
     ]
    },
    {
     "name": "stdout",
     "output_type": "stream",
     "text": [
      "Program Stopped successfully\n"
     ]
    }
   ],
   "source": [
    "import operator\n",
    "\n",
    "ops = { \"+\": operator.add, \"-\": operator.sub, \"*\":operator.mul, \"/\":operator.truediv } \n",
    "\n",
    "print('Select a Arithmetic Operation: \\\n",
    "        \\n1.Addition(+)\\\n",
    "        \\n2.Division(-)\\\n",
    "        \\n2.Multiplication(*)\\\n",
    "        \\n4.Division(/)\\\n",
    "        \\n3.Stop(0)\\n')\n",
    "   \n",
    "\n",
    "while True:\n",
    "    operator = input('Enter a arithmetic operation -> ')\n",
    "    if operator == '0':\n",
    "        print(\"Program Stopped successfully\")\n",
    "        break\n",
    "    elif operator not in ['+','-','*','/']:\n",
    "        print(\"Please enter a valid operator\")\n",
    "    else:\n",
    "        num_1 = int(input('\\nEnter 1st Number: '))\n",
    "        num_2 = int(input('Enter 2nd Number: '))\n",
    "        print('{}{}{}={}\\n'.format(num_1, operator, num_2, ops[operator](num_1,num_2)))"
   ]
  },
  {
   "cell_type": "markdown",
   "id": "f876b725-2373-4f1c-a2a9-4d6e502886f6",
   "metadata": {},
   "source": [
    "### 3.Write a Python program to find the area of a triangle ?"
   ]
  },
  {
   "cell_type": "code",
   "execution_count": 3,
   "id": "220883c6-22fb-420b-909a-0e791955b99c",
   "metadata": {},
   "outputs": [
    {
     "name": "stdin",
     "output_type": "stream",
     "text": [
      "Enter height of triangle:  10\n",
      "Enter base of triangle:  5\n"
     ]
    },
    {
     "name": "stdout",
     "output_type": "stream",
     "text": [
      "\n",
      "Area of triangle -> 25.0\n"
     ]
    }
   ],
   "source": [
    "height = int(input('Enter height of triangle: '))\n",
    "base = int(input('Enter base of triangle: '))\n",
    "\n",
    "def areaOfTriangle(height, base):\n",
    "    print('\\nArea of triangle ->', 0.5*height*base)\n",
    "\n",
    "areaOfTriangle(height,base)"
   ]
  },
  {
   "cell_type": "markdown",
   "id": "cc56eccf-0556-42aa-b6c2-0a55737903d0",
   "metadata": {},
   "source": [
    "### 4.Write a Python program to swap two variables ?"
   ]
  },
  {
   "cell_type": "code",
   "execution_count": 4,
   "id": "05980b49-4a8a-42ba-8748-a727e5c3bbe5",
   "metadata": {},
   "outputs": [
    {
     "name": "stdin",
     "output_type": "stream",
     "text": [
      "Enter First Number:  100\n",
      "Enter Second Number:  200\n"
     ]
    },
    {
     "name": "stdout",
     "output_type": "stream",
     "text": [
      "Before swapping ->  100 200\n",
      "After swapping ->  200 100\n"
     ]
    }
   ],
   "source": [
    "num_1 = int(input(\"Enter First Number: \"))\n",
    "num_2 = int(input(\"Enter Second Number: \"))\n",
    "\n",
    "def swapNumbers(a,b):\n",
    "    temp = a\n",
    "    a = b\n",
    "    b = temp\n",
    "    return a,b\n",
    "\n",
    "print('Before swapping -> ',num_1, num_2)\n",
    "num_1, num_2 = swapNumbers(num_1, num_2)\n",
    "print('After swapping -> ',num_1,num_2)"
   ]
  },
  {
   "cell_type": "markdown",
   "id": "ccee2930-09e5-40b2-a74c-55c7f6a53a56",
   "metadata": {},
   "source": [
    "### 5.Write a Python program to generate a random number ?"
   ]
  },
  {
   "cell_type": "code",
   "execution_count": 5,
   "id": "b2669049-0669-4ecd-b31a-02a0490f730c",
   "metadata": {},
   "outputs": [
    {
     "name": "stdout",
     "output_type": "stream",
     "text": [
      "Random number ->  98950\n",
      "Random number ->  42\n"
     ]
    }
   ],
   "source": [
    "from random import randint\n",
    "\n",
    "def generateRandomNumber(start=0, end=100000):\n",
    "    print('Random number -> ',randint(start,end))\n",
    "\n",
    "# Generating random numbers without arguments    \n",
    "generateRandomNumber()\n",
    "\n",
    "# Generating random numbers with arguments    \n",
    "generateRandomNumber(0,100)"
   ]
  },
  {
   "cell_type": "code",
   "execution_count": null,
   "id": "9d0f3838-889d-4a5a-9e9e-4ae1f90416c4",
   "metadata": {},
   "outputs": [],
   "source": []
  }
 ],
 "metadata": {
  "kernelspec": {
   "display_name": "Python 3 (ipykernel)",
   "language": "python",
   "name": "python3"
  },
  "language_info": {
   "codemirror_mode": {
    "name": "ipython",
    "version": 3
   },
   "file_extension": ".py",
   "mimetype": "text/x-python",
   "name": "python",
   "nbconvert_exporter": "python",
   "pygments_lexer": "ipython3",
   "version": "3.10.6"
  }
 },
 "nbformat": 4,
 "nbformat_minor": 5
}
