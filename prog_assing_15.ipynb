{
 "cells": [
  {
   "cell_type": "markdown",
   "id": "504b9755-1087-4a31-a87b-af849e085f45",
   "metadata": {},
   "source": [
    "### 1. Please write a program using generator to print the numbers which can be divisible by 5 and 7 between 0 and n in comma separated form while n is input by console ?"
   ]
  },
  {
   "cell_type": "markdown",
   "id": "e512f0cf-84c7-4bd5-9955-8cf7d1831f41",
   "metadata": {},
   "source": [
    "Example:\n",
    "    \n",
    "If the following n is given as input to the program: 100\n",
    "\n",
    "Then, the output of the program should be: 0,35,70"
   ]
  },
  {
   "cell_type": "code",
   "execution_count": 1,
   "id": "bf9235b9-35ee-450c-9459-142babaeff25",
   "metadata": {},
   "outputs": [
    {
     "name": "stdout",
     "output_type": "stream",
     "text": [
      "0 35 70 "
     ]
    }
   ],
   "source": [
    "def showDivisible(in_num):\n",
    "    for ele in range(0,in_num):\n",
    "        if (ele%5 == 0) and (ele%7 == 0):\n",
    "            yield ele\n",
    "for ele in showDivisible(100):\n",
    "    print(ele,end=' ')"
   ]
  },
  {
   "cell_type": "markdown",
   "id": "c360a071-4d7d-4857-b04a-274deed8689c",
   "metadata": {},
   "source": [
    "### 2.Please write a program using generator to print the even numbers between 0 and n in comma separated form while n is input by console ?"
   ]
  },
  {
   "cell_type": "markdown",
   "id": "8afe55d6-5a40-4921-886b-ee988c49f18c",
   "metadata": {},
   "source": [
    "Example:\n",
    "\n",
    "If the following n is given as input to the program: 10\n",
    "\n",
    "Then, the output of the program should be: 0,2,4,6,8,10"
   ]
  },
  {
   "cell_type": "code",
   "execution_count": 2,
   "id": "c20f2586-282d-4dd5-965b-2d4398b8101b",
   "metadata": {},
   "outputs": [
    {
     "name": "stdout",
     "output_type": "stream",
     "text": [
      "0 2 4 6 8 10 "
     ]
    }
   ],
   "source": [
    "def genEvenNumbers(in_num):\n",
    "    for ele in range(in_num+1):\n",
    "        if ele%2 == 0:\n",
    "            yield ele\n",
    "\n",
    "for ele in genEvenNumbers(10):\n",
    "    print(ele,end=' ')"
   ]
  },
  {
   "cell_type": "markdown",
   "id": "75c4762f-e958-4917-a239-6d3609318692",
   "metadata": {},
   "source": [
    "### 3.The Fibonacci Sequence is computed based on the following formula below, Please write a program using list comprehension to print the Fibonacci Sequence in comma separated form with a given n input by console ?\n",
    "f(n)=0 if n=0 f(n)=1 if n=1 f(n)=f(n-1)+f(n-2) if n>1"
   ]
  },
  {
   "cell_type": "code",
   "execution_count": 4,
   "id": "471d80dd-d741-4e2c-87c3-64bc5b8f2ce4",
   "metadata": {},
   "outputs": [
    {
     "name": "stdout",
     "output_type": "stream",
     "text": [
      "[0, 1, 1, 2, 3, 5, 8, 13, 21, 34, 55, 89, 144, 233, 377, 610, 987, 1597, 2584, 4181]\n"
     ]
    }
   ],
   "source": [
    "def genFibonaci(in_num):\n",
    "    if in_num == 0:\n",
    "        return 0\n",
    "    elif in_num == 1:\n",
    "        return 1\n",
    "    else:\n",
    "        return genFibonaci(in_num-1)+genFibonaci(in_num-2)\n",
    "    \n",
    "print([genFibonaci(x) for x in range(20)])"
   ]
  },
  {
   "cell_type": "markdown",
   "id": "ca3eb942-ecf8-4da0-a5d5-511075ef3ba4",
   "metadata": {},
   "source": [
    "### 4.Assuming that we have some email addresses in the \"username@companyname.com\" format, please write program to print the user name of a given email address. Both user names and company names are composed of letters only ?\n",
    "Example:\n",
    "    \n",
    "If the following email address is given as input to the program: john@google.com\n",
    "\n",
    "Then, the output of the program should be: john"
   ]
  },
  {
   "cell_type": "code",
   "execution_count": 5,
   "id": "a9040206-e1c5-4931-9fcf-bbc22af6cd98",
   "metadata": {},
   "outputs": [
    {
     "name": "stdin",
     "output_type": "stream",
     "text": [
      "Enter Email Address(es):  ydeepakdy123@gmail.com\n"
     ]
    },
    {
     "name": "stdout",
     "output_type": "stream",
     "text": [
      "Username of ydeepakdy123@gmail.com is ydeepakdy123\n"
     ]
    },
    {
     "name": "stdin",
     "output_type": "stream",
     "text": [
      "Enter Email Address(es):  support.query@ineuron.ai\n"
     ]
    },
    {
     "name": "stdout",
     "output_type": "stream",
     "text": [
      "Username of support.query@ineuron.ai is support.query\n"
     ]
    },
    {
     "name": "stdin",
     "output_type": "stream",
     "text": [
      "Enter Email Address(es):  Deepakyadac220999@gmail.com\n"
     ]
    },
    {
     "name": "stdout",
     "output_type": "stream",
     "text": [
      "Username of Deepakyadac220999@gmail.com is Deepakyadac220999\n"
     ]
    }
   ],
   "source": [
    "def getUsernames():\n",
    "    in_string = input('Enter Email Address(es): ')\n",
    "    out_string = in_string.split('@')\n",
    "    print(f'Username of {in_string} is {out_string[0]}')\n",
    "\n",
    "for i in range(3):\n",
    "    getUsernames()"
   ]
  },
  {
   "cell_type": "markdown",
   "id": "5abdecad-e01e-4690-bb16-5555f15d6c29",
   "metadata": {},
   "source": [
    "### 5.Define a class named Shape and its subclass Square. The Square class has an init function which takes a length as argument. Both classes have a area function which can print the area of the shape where Shape's area is 0 by default."
   ]
  },
  {
   "cell_type": "code",
   "execution_count": 6,
   "id": "fd6e783f-3638-46eb-b410-41b542f0e920",
   "metadata": {},
   "outputs": [
    {
     "name": "stdout",
     "output_type": "stream",
     "text": [
      "2500\n"
     ]
    }
   ],
   "source": [
    "class Shape:\n",
    "    def area(self):\n",
    "        return 0\n",
    "\n",
    "class Square(Shape):\n",
    "    def __init__(self, length):\n",
    "        self.length = length\n",
    "    def area(self):\n",
    "        return self.length*self.length\n",
    "\n",
    "square = Square(50)\n",
    "print(square.area())"
   ]
  }
 ],
 "metadata": {
  "kernelspec": {
   "display_name": "Python 3 (ipykernel)",
   "language": "python",
   "name": "python3"
  },
  "language_info": {
   "codemirror_mode": {
    "name": "ipython",
    "version": 3
   },
   "file_extension": ".py",
   "mimetype": "text/x-python",
   "name": "python",
   "nbconvert_exporter": "python",
   "pygments_lexer": "ipython3",
   "version": "3.10.6"
  }
 },
 "nbformat": 4,
 "nbformat_minor": 5
}
