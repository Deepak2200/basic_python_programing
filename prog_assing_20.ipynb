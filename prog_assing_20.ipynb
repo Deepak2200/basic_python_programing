{
 "cells": [
  {
   "cell_type": "markdown",
   "id": "edbd2612-969b-49b7-90df-758366f36eff",
   "metadata": {},
   "source": [
    "### 1.Create a function that takes a list of strings and integers, and filters out the list so that it returns a list of integers only.\n",
    "Examples:\n",
    "filter_list([1, 2, 3, \"a\", \"b\", 4]) ➞ [1, 2, 3, 4]\n",
    "\n",
    "filter_list([\"A\", 0, \"Edabit\", 1729, \"Python\", \"1729\"]) ➞ [0, 1729]\n",
    "\n",
    "filter_list([\"Nothing\", \"here\"]) ➞ []"
   ]
  },
  {
   "cell_type": "code",
   "execution_count": 1,
   "id": "19f6b61b-68f2-4184-9a60-513463c676bd",
   "metadata": {},
   "outputs": [
    {
     "name": "stdout",
     "output_type": "stream",
     "text": [
      "Output ➞ [1, 2, 3, 4]\n",
      "Output ➞ [0, 1729]\n",
      "Output ➞ []\n"
     ]
    }
   ],
   "source": [
    "def filter_list(in_list):\n",
    "    out_list = []\n",
    "    for ele in in_list:\n",
    "        if type(ele) == int:\n",
    "            out_list.append(ele)\n",
    "    print(f'Output ➞ {out_list}')\n",
    "\n",
    "filter_list([1, 2, 3, \"a\", \"b\", 4])\n",
    "filter_list([\"A\", 0, \"Edabit\", 1729, \"Python\", \"1729\"])\n",
    "filter_list([\"Nothing\", \"here\"])"
   ]
  },
  {
   "cell_type": "markdown",
   "id": "7c678797-d2b8-47b1-962f-a1e4275e47c1",
   "metadata": {},
   "source": [
    "### 2.Given a list of numbers, create a function which returns the list but with each element's index in the list added to itself. This means you add 0 to the number at index 0, add 1 to the number at index 1, etc...\n",
    "Examples:\n",
    "add_indexes([0, 0, 0, 0, 0]) ➞ [0, 1, 2, 3, 4]\n",
    "\n",
    "add_indexes([1, 2, 3, 4, 5]) ➞ [1, 3, 5, 7, 9]\n",
    "\n",
    "add_indexes([5, 4, 3, 2, 1]) ➞ [5, 5, 5, 5, 5]"
   ]
  },
  {
   "cell_type": "code",
   "execution_count": 2,
   "id": "594e0f1d-7f20-43b4-b5eb-e128262bc5e5",
   "metadata": {},
   "outputs": [
    {
     "name": "stdout",
     "output_type": "stream",
     "text": [
      "[0, 0, 0, 0, 0] ➞ [0, 1, 2, 3, 4]\n",
      "[1, 2, 3, 4, 5] ➞ [1, 3, 5, 7, 9]\n",
      "[5, 4, 3, 2, 1] ➞ [5, 5, 5, 5, 5]\n"
     ]
    }
   ],
   "source": [
    "def add_indexes(in_list):\n",
    "    out_list = []\n",
    "    for ele in range(len(in_list)):\n",
    "        out_list.append(ele+in_list[ele])\n",
    "    print(f'{in_list} ➞ {out_list}')\n",
    "        \n",
    "add_indexes([0, 0, 0, 0, 0])\n",
    "add_indexes([1, 2, 3, 4, 5])\n",
    "add_indexes([5, 4, 3, 2, 1])"
   ]
  },
  {
   "cell_type": "markdown",
   "id": "ffce48b7-530e-4593-98a6-10a528e50e97",
   "metadata": {},
   "source": [
    "### 3.Create a function that takes the height and radius of a cone as arguments and returns the volume of the cone rounded to the nearest hundredth. See the resources tab for the formula.\n",
    "Examples:\n",
    "cone_volume(3, 2) ➞ 12.57\n",
    "\n",
    "cone_volume(15, 6) ➞ 565.49\n",
    "\n",
    "cone_volume(18, 0) ➞ 0"
   ]
  },
  {
   "cell_type": "code",
   "execution_count": 3,
   "id": "b60c2d02-d0e0-4de7-889d-46e7859d6132",
   "metadata": {},
   "outputs": [
    {
     "name": "stdout",
     "output_type": "stream",
     "text": [
      "Output ➞ 12.57\n",
      "Output ➞ 565.49\n",
      "Output ➞ 0.00\n"
     ]
    }
   ],
   "source": [
    "import math\n",
    "\n",
    "def cube_volume(height, radius):\n",
    "    output = ((math.pi)*pow(radius,2))*(height/3)\n",
    "    print(f'Output ➞ {output:.2f}')\n",
    "\n",
    "cube_volume(3,2) \n",
    "cube_volume(15,6)    \n",
    "cube_volume(18,0) "
   ]
  },
  {
   "cell_type": "markdown",
   "id": "1a73bfb1-46cb-44a5-92e3-cf6fcfeea24b",
   "metadata": {},
   "source": [
    "### 4.This Triangular Number Sequence is generated from a pattern of dots that form a triangle.\n",
    "The first 5 numbers of the sequence, or dots, are: 1, 3, 6, 10, 15\n",
    "This means that the first triangle has just one dot, the second one has three dots, the third one has 6 dots and so on. Write a function that gives the number of dots with its corresponding triangle number of the sequence."
   ]
  },
  {
   "cell_type": "markdown",
   "id": "a9d1a879-e743-4629-bff0-14ec609cc11c",
   "metadata": {},
   "source": [
    "Examples:\n",
    "\n",
    "triangle(1) ➞ 1\n",
    "\n",
    "triangle(6) ➞ 21\n",
    "\n",
    "triangle(215) ➞ 23220"
   ]
  },
  {
   "cell_type": "code",
   "execution_count": 4,
   "id": "5ac1b80a-5af3-46f4-bda5-9825110f6eb8",
   "metadata": {},
   "outputs": [
    {
     "name": "stdout",
     "output_type": "stream",
     "text": [
      "Output ➞ 1\n",
      "Output ➞ 21\n",
      "Output ➞ 23220\n"
     ]
    }
   ],
   "source": [
    "def triangle(in_num):\n",
    "    print(f'Output ➞ {int((in_num)*((in_num+1)/2))}')\n",
    "\n",
    "triangle(1)\n",
    "triangle(6)\n",
    "triangle(215)"
   ]
  },
  {
   "cell_type": "markdown",
   "id": "0cc6848e-87b7-41c3-b690-b84ad4e0817d",
   "metadata": {},
   "source": [
    "### 5.Create a function that takes a list of numbers between 1 and 10 (excluding one number) and returns the missing number.\n",
    "Examples:\n",
    "    \n",
    "missing_num([1, 2, 3, 4, 6, 7, 8, 9, 10]) ➞ 5\n",
    "\n",
    "missing_num([7, 2, 3, 6, 5, 9, 1, 4, 8]) ➞ 10\n",
    "\n",
    "missing_num([10, 5, 1, 2, 4, 6, 8, 3, 9]) ➞ 7"
   ]
  },
  {
   "cell_type": "code",
   "execution_count": 5,
   "id": "1ee318e3-2bff-4a1e-af39-48e0b8f11328",
   "metadata": {},
   "outputs": [
    {
     "name": "stdout",
     "output_type": "stream",
     "text": [
      "[1, 2, 3, 4, 6, 7, 8, 9, 10] ➞ 5\n",
      "[7, 2, 3, 6, 5, 9, 1, 4, 8] ➞ 10\n",
      "[10, 5, 1, 2, 4, 6, 8, 3, 9] ➞ 7\n"
     ]
    }
   ],
   "source": [
    "def missing_num(in_list):\n",
    "    for i in range(1,11):\n",
    "        if i not in in_list:\n",
    "            print(f'{in_list} ➞ {i}')\n",
    "\n",
    "missing_num([1, 2, 3, 4, 6, 7, 8, 9, 10])\n",
    "missing_num([7, 2, 3, 6, 5, 9, 1, 4, 8])\n",
    "missing_num([10, 5, 1, 2, 4, 6, 8, 3, 9])"
   ]
  },
  {
   "cell_type": "code",
   "execution_count": null,
   "id": "0ece18e6-1b04-4185-80b8-c8cf5ca0866a",
   "metadata": {},
   "outputs": [],
   "source": []
  }
 ],
 "metadata": {
  "kernelspec": {
   "display_name": "Python 3 (ipykernel)",
   "language": "python",
   "name": "python3"
  },
  "language_info": {
   "codemirror_mode": {
    "name": "ipython",
    "version": 3
   },
   "file_extension": ".py",
   "mimetype": "text/x-python",
   "name": "python",
   "nbconvert_exporter": "python",
   "pygments_lexer": "ipython3",
   "version": "3.10.6"
  }
 },
 "nbformat": 4,
 "nbformat_minor": 5
}
